{
 "cells": [
  {
   "cell_type": "code",
   "execution_count": null,
   "metadata": {
    "collapsed": true,
    "ExecuteTime": {
     "start_time": "2023-04-19T09:58:06.233864Z",
     "end_time": "2023-04-19T09:58:06.239294Z"
    }
   },
   "source": [
    "import os\n",
    "from pathlib import Path\n",
    "project_root = os.path.join(str(Path.home()), 'PPGA')\n",
    "os.chdir(project_root)\n",
    "%pwd # should be PPGA root dir"
   ],
   "outputs": []
  },
  {
   "cell_type": "code",
   "execution_count": null,
   "source": [
    "import pickle\n",
    "\n",
    "import numpy as np\n",
    "from attrdict import AttrDict\n",
    "from RL.ppo import *\n",
    "from utils.utilities import log\n",
    "from envs.brax_custom.brax_env import make_vec_env_brax\n",
    "from models.actor_critic import Actor, PGAMEActor\n",
    "from pandas import DataFrame\n",
    "\n",
    "from IPython.display import HTML, Image\n",
    "from IPython.display import display\n",
    "from brax.io import html, image"
   ],
   "metadata": {
    "collapsed": false,
    "ExecuteTime": {
     "start_time": "2023-04-19T09:58:06.234245Z",
     "end_time": "2023-04-19T09:58:08.429948Z"
    }
   },
   "outputs": []
  },
  {
   "cell_type": "code",
   "execution_count": null,
   "source": [
    "# params to config\n",
    "device = torch.device('cuda')\n",
    "env_name = 'humanoid'\n",
    "seed = 1111\n",
    "normalize_obs = True\n",
    "normalize_rewards = True\n",
    "# non-configurable params\n",
    "obs_shapes = {\n",
    "    'humanoid': (227,),\n",
    "    'ant': (87,),\n",
    "    'halfcheetah': (18,),\n",
    "    'walker2d': (17,)\n",
    "}\n",
    "action_shapes = {\n",
    "    'humanoid': (17,),\n",
    "    'ant': (8,),\n",
    "    'halfcheetah': (6,),\n",
    "    'walker2d': (6,)\n",
    "}\n",
    "\n",
    "# define the final config objects\n",
    "actor_cfg = AttrDict({\n",
    "        'obs_shape': obs_shapes[env_name],\n",
    "        'action_shape': action_shapes[env_name],\n",
    "        'normalize_obs': normalize_obs,\n",
    "        'normalize_rewards': normalize_rewards,\n",
    "})\n",
    "env_cfg = AttrDict({\n",
    "        'env_name': env_name,\n",
    "        'env_batch_size': None,\n",
    "        'num_dims': 2 if not 'ant' in env_name else 4,\n",
    "        'envs_per_model': 1,\n",
    "        'seed': seed,\n",
    "        'num_envs': 1,\n",
    "})\n"
   ],
   "metadata": {
    "collapsed": false,
    "ExecuteTime": {
     "start_time": "2023-04-19T09:58:08.430496Z",
     "end_time": "2023-04-19T09:58:08.434682Z"
    }
   },
   "outputs": []
  },
  {
   "cell_type": "code",
   "execution_count": null,
   "source": [
    "# now lets load in a saved archive dataframe and scheduler\n",
    "# change this to be your own checkpoint path\n",
    "archive_path = 'experiments/ppga_humanoid_imp_var_ranker/1111/checkpoints/cp_00002000/cp_00002000/archive_df_00002000.pkl'\n",
    "scheduler_path = 'experiments/ppga_humanoid_imp_var_ranker/1111/checkpoints/cp_00002000/cp_00002000/scheduler_00002000.pkl'\n",
    "with open(archive_path, 'rb') as f:\n",
    "    archive_df = pickle.load(f)\n",
    "with open(scheduler_path, 'rb') as f:\n",
    "    scheduler = pickle.load(f)"
   ],
   "metadata": {
    "collapsed": false,
    "ExecuteTime": {
     "start_time": "2023-04-18T10:24:40.275221Z",
     "end_time": "2023-04-18T10:24:43.868494Z"
    }
   },
   "outputs": []
  },
  {
   "cell_type": "code",
   "execution_count": null,
   "source": [
    "# create the environment\n",
    "env = make_vec_env_brax(env_cfg)"
   ],
   "metadata": {
    "collapsed": false,
    "ExecuteTime": {
     "start_time": "2023-04-18T10:24:43.877330Z",
     "end_time": "2023-04-18T10:24:44.260631Z"
    }
   },
   "outputs": []
  },
  {
   "cell_type": "code",
   "execution_count": null,
   "source": [
    "def get_best_elite():\n",
    "    best_elite = scheduler.archive.best_elite\n",
    "    print(f'Loading agent with reward {best_elite.objective} and measures {best_elite.measures}')\n",
    "    agent = Actor(obs_shape=actor_cfg.obs_shape[0], action_shape=actor_cfg.action_shape, normalize_obs=normalize_obs, normalize_returns=normalize_rewards).deserialize(best_elite.solution).to(device)\n",
    "    if actor_cfg.normalize_obs:\n",
    "        norm = best_elite.metadata['obs_normalizer']\n",
    "        if isinstance(norm, dict):\n",
    "            agent.obs_normalizer.load_state_dict(norm)\n",
    "        else:\n",
    "            agent.obs_normalizer = norm\n",
    "    return agent"
   ],
   "metadata": {
    "collapsed": false,
    "ExecuteTime": {
     "start_time": "2023-04-18T10:27:59.639211Z",
     "end_time": "2023-04-18T10:27:59.679558Z"
    }
   },
   "outputs": []
  },
  {
   "cell_type": "code",
   "execution_count": null,
   "source": [
    "def get_random_elite():\n",
    "    elite = scheduler.archive.sample_elites(1)\n",
    "    print(f'Loading agent with reward {elite.objective_batch[0]} and measures {elite.measures_batch[0]}')\n",
    "    agent = Actor(obs_shape=actor_cfg.obs_shape[0], action_shape=actor_cfg.action_shape, normalize_obs=normalize_obs, normalize_returns=normalize_rewards).deserialize(elite.solution_batch.flatten()).to(device)\n",
    "    if actor_cfg.normalize_obs:\n",
    "        norm = elite.metadata_batch[0]['obs_normalizer']\n",
    "        if isinstance(norm, dict):\n",
    "            agent.obs_normalizer.load_state_dict(norm)\n",
    "        else:\n",
    "            agent.obs_normalizer = norm\n",
    "    return agent"
   ],
   "metadata": {
    "collapsed": false,
    "ExecuteTime": {
     "start_time": "2023-04-19T09:58:18.545285Z",
     "end_time": "2023-04-19T09:58:18.549041Z"
    }
   },
   "outputs": []
  },
  {
   "cell_type": "code",
   "execution_count": null,
   "source": [
    "def enjoy_brax(agent, render=True, deterministic=True):\n",
    "    if actor_cfg.normalize_obs:\n",
    "        obs_mean, obs_var = agent.obs_normalizer.obs_rms.mean, agent.obs_normalizer.obs_rms.var\n",
    "        print(f'{obs_mean=}, {obs_var=}')\n",
    "\n",
    "    obs = env.reset()\n",
    "    rollout = [env.unwrapped._state]\n",
    "    total_reward = 0\n",
    "    measures = torch.zeros(env_cfg.num_dims).to(device)\n",
    "    done = False\n",
    "    while not done:\n",
    "        with torch.no_grad():\n",
    "            obs = obs.unsqueeze(dim=0).to(device)\n",
    "            if actor_cfg.normalize_obs:\n",
    "                obs = (obs - obs_mean) / torch.sqrt(obs_var + 1e-8)\n",
    "\n",
    "            if deterministic:\n",
    "                act = agent.actor_mean(obs)\n",
    "            else:\n",
    "                act, _, _ = agent.get_action(obs)\n",
    "            act = act.squeeze()\n",
    "            obs, rew, done, info = env.step(act.cpu())\n",
    "            measures += info['measures']\n",
    "            rollout.append(env.unwrapped._state)\n",
    "            total_reward += rew\n",
    "    if render:\n",
    "        i = HTML(html.render(env.unwrapped._env.sys, [s.qp for s in rollout]))\n",
    "        display(i)\n",
    "        print(f'{total_reward=}')\n",
    "        print(f' Rollout length: {len(rollout)}')\n",
    "        measures /= len(rollout)\n",
    "        print(f'Measures: {measures.cpu().numpy()}')\n",
    "    return total_reward.detach().cpu().numpy()"
   ],
   "metadata": {
    "collapsed": false,
    "ExecuteTime": {
     "start_time": "2023-04-19T09:58:21.969141Z",
     "end_time": "2023-04-19T09:58:21.970574Z"
    }
   },
   "outputs": []
  },
  {
   "cell_type": "code",
   "execution_count": null,
   "source": [
    "agent = get_best_elite()\n",
    "enjoy_brax(agent, render=True, deterministic=True)"
   ],
   "metadata": {
    "collapsed": false,
    "ExecuteTime": {
     "start_time": "2023-04-18T10:33:11.637104Z",
     "end_time": "2023-04-18T10:33:11.702148Z"
    }
   },
   "outputs": []
  },
  {
   "cell_type": "code",
   "execution_count": null,
   "source": [],
   "metadata": {
    "collapsed": false,
    "ExecuteTime": {
     "start_time": "2023-04-18T10:26:41.385638Z",
     "end_time": "2023-04-18T10:26:41.871810Z"
    }
   },
   "outputs": []
  }
 ],
 "metadata": {
  "kernelspec": {
   "display_name": "Python 3",
   "language": "python",
   "name": "python3"
  },
  "language_info": {
   "codemirror_mode": {
    "name": "ipython",
    "version": 2
   },
   "file_extension": ".py",
   "mimetype": "text/x-python",
   "name": "python",
   "nbconvert_exporter": "python",
   "pygments_lexer": "ipython2",
   "version": "2.7.6"
  }
 },
 "nbformat": 4,
 "nbformat_minor": 0
}
